{
  "nbformat": 4,
  "nbformat_minor": 0,
  "metadata": {
    "colab": {
      "name": "Recursion.ipynb",
      "provenance": []
    },
    "kernelspec": {
      "name": "python3",
      "display_name": "Python 3"
    },
    "language_info": {
      "name": "python"
    }
  },
  "cells": [
    {
      "cell_type": "code",
      "metadata": {
        "colab": {
          "base_uri": "https://localhost:8080/"
        },
        "id": "R0u13HTeYNOO",
        "outputId": "91fe588c-1bcd-44db-be58-6b90b63b42ec"
      },
      "source": [
        "def fac(n):\n",
        "  if n == 1:\n",
        "    return 1\n",
        "    #if n is 1, return 1\n",
        "  else:\n",
        "    return n*fac(n-1)\n",
        "    # when n is not 1, return n times all natural numbers less than n\n",
        "fac(30)"
      ],
      "execution_count": null,
      "outputs": [
        {
          "output_type": "execute_result",
          "data": {
            "text/plain": [
              "265252859812191058636308480000000"
            ]
          },
          "metadata": {},
          "execution_count": 26
        }
      ]
    },
    {
      "cell_type": "code",
      "metadata": {
        "colab": {
          "base_uri": "https://localhost:8080/",
          "height": 37
        },
        "id": "VvC_Bi-NaiSw",
        "outputId": "e48f8462-4567-4652-c0d3-dfbe7e8c6b18"
      },
      "source": [
        "def binary(n):\n",
        "  s = \"\"\n",
        "  #compounding string\n",
        "  i = \"1\"\n",
        "  #1 string\n",
        "  o = \"0\"\n",
        "  #0 string\n",
        "  if n == 1:\n",
        "    s = i + s\n",
        "    #if n is 1, \"1\" is added to the beginning of the compounding string\n",
        "    return s\n",
        "  if n%2 == 0:\n",
        "    s = o + s\n",
        "    #if n is even, \"0\" is added to the beginning of the compounding string\n",
        "    return binary(n/2) + s\n",
        "    #recurse with n/2 and the new compounding string\n",
        "  if n%2 == 1:\n",
        "    s = i + s\n",
        "    #if n is odd, \"1\" is added to the beginning of the string\n",
        "    return binary((n-1)/2) + s\n",
        "    #recurse with (n-1)/2 and the new compounding string\n",
        "binary(2**30)\n",
        "\n"
      ],
      "execution_count": null,
      "outputs": [
        {
          "output_type": "execute_result",
          "data": {
            "application/vnd.google.colaboratory.intrinsic+json": {
              "type": "string"
            },
            "text/plain": [
              "'1000000000000000000000000000000'"
            ]
          },
          "metadata": {},
          "execution_count": 24
        }
      ]
    },
    {
      "cell_type": "code",
      "metadata": {
        "colab": {
          "base_uri": "https://localhost:8080/"
        },
        "id": "OkXlIaXp-7t9",
        "outputId": "74067df6-96ff-4c43-9a3d-5763763a55cb"
      },
      "source": [
        "def fib(n):\n",
        "  if n < 1:\n",
        "    return \"Error: n is not a positive integer\"\n",
        "  if n%1 != 0:\n",
        "    return \"Error: n is not a positive integer\"\n",
        "    #if n is not a positive integer, return Error\n",
        "  else:\n",
        "    if n == 1:\n",
        "      return 1\n",
        "      #the 1st fibonacci term is 1\n",
        "    if n == 2:\n",
        "      return 1\n",
        "      #the 2nd fibonacci term is 1\n",
        "    else:\n",
        "      return fib(n-1)+fib(n-2)\n",
        "      #the nth fibonacci term is the sum of the previous 2 fibonacci terms\n",
        "fib(30)\n"
      ],
      "execution_count": 4,
      "outputs": [
        {
          "output_type": "execute_result",
          "data": {
            "text/plain": [
              "832040"
            ]
          },
          "metadata": {},
          "execution_count": 4
        }
      ]
    },
    {
      "cell_type": "code",
      "metadata": {
        "colab": {
          "base_uri": "https://localhost:8080/"
        },
        "id": "-7L24LGyCEcV",
        "outputId": "f044ae80-b68f-4263-a8bf-629522ff8a2d"
      },
      "source": [
        "def power_set(n):\n",
        "  if len(n) == 0:\n",
        "    return [[]]\n",
        "    #if n is empty, return the empty set\n",
        "  else:\n",
        "    l = power_set(n[1:])\n",
        "    #l is the set of the function applied to each term in the input set\n",
        "    return l + [x + n[:1] for x in l]\n",
        "    #returns l + (x + each term in n, for every term, x, in l)\n",
        "power_set([1,2,[1,2]])\n"
      ],
      "execution_count": 7,
      "outputs": [
        {
          "output_type": "execute_result",
          "data": {
            "text/plain": [
              "[[], [[1, 2]], [2], [[1, 2], 2], [1], [[1, 2], 1], [2, 1], [[1, 2], 2, 1]]"
            ]
          },
          "metadata": {},
          "execution_count": 7
        }
      ]
    }
  ]
}