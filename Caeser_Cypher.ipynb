{
  "nbformat": 4,
  "nbformat_minor": 0,
  "metadata": {
    "colab": {
      "name": "Caeser Cypher.ipynb",
      "provenance": []
    },
    "kernelspec": {
      "name": "python3",
      "display_name": "Python 3"
    },
    "language_info": {
      "name": "python"
    }
  },
  "cells": [
    {
      "cell_type": "code",
      "metadata": {
        "colab": {
          "base_uri": "https://localhost:8080/"
        },
        "id": "j3kB5VJxl0Vo",
        "outputId": "0cfd1a16-d805-47d0-fd1c-9990b0f8213c"
      },
      "source": [
        "def shift_encrypt(n,m):\n",
        "  alphabet = [\"A\",\"B\",\"C\",\"D\",\"E\",\"F\",\"G\",\"H\",\"I\",\"J\",\"K\",\"L\",\"M\",\"N\",\"O\",\"P\",\"Q\",\"R\",\"S\",\"T\",\"U\",\"V\",\"W\",\"X\",\"Y\",\"Z\"]\n",
        "  #a list of all letters\n",
        "  s = \"\"\n",
        "  #integer conversion string\n",
        "  o = \"\"\n",
        "  #output string\n",
        "  for i in range(len(m)):\n",
        "    #for all terms in input(m)\n",
        "    k = alphabet.index(m[i])\n",
        "    #...k equals the corresponding number value of each letter\n",
        "    k = (k+n)%26\n",
        "    #then k has the encryption value n added to it, and if k > 25, then its index is reset to the beginning of the alphabet\n",
        "    l = alphabet[k]\n",
        "    s = s + l\n",
        "  return s\n",
        "def shift_decrypt(n,m): \n",
        "  return shift_encrypt(-n,m)\n",
        "def decrypt_all(m):\n",
        "  n = 0\n",
        "  while n <=25:\n",
        "    print(shift_decrypt(n,m))\n",
        "    n = n + 1\n",
        "decrypt_all(\"KYVTRBVZJRCZV\")"
      ],
      "execution_count": 112,
      "outputs": [
        {
          "output_type": "stream",
          "name": "stdout",
          "text": [
            "KYVTRBVZJRCZV\n",
            "JXUSQAUYIQBYU\n",
            "IWTRPZTXHPAXT\n",
            "HVSQOYSWGOZWS\n",
            "GURPNXRVFNYVR\n",
            "FTQOMWQUEMXUQ\n",
            "ESPNLVPTDLWTP\n",
            "DROMKUOSCKVSO\n",
            "CQNLJTNRBJURN\n",
            "BPMKISMQAITQM\n",
            "AOLJHRLPZHSPL\n",
            "ZNKIGQKOYGROK\n",
            "YMJHFPJNXFQNJ\n",
            "XLIGEOIMWEPMI\n",
            "WKHFDNHLVDOLH\n",
            "VJGECMGKUCNKG\n",
            "UIFDBLFJTBMJF\n",
            "THECAKEISALIE\n",
            "SGDBZJDHRZKHD\n",
            "RFCAYICGQYJGC\n",
            "QEBZXHBFPXIFB\n",
            "PDAYWGAEOWHEA\n",
            "OCZXVFZDNVGDZ\n",
            "NBYWUEYCMUFCY\n",
            "MAXVTDXBLTEBX\n",
            "LZWUSCWAKSDAW\n"
          ]
        }
      ]
    }
  ]
}