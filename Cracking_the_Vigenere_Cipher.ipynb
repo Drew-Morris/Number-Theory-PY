{
  "nbformat": 4,
  "nbformat_minor": 0,
  "metadata": {
    "colab": {
      "name": "Cracking the Vigenere Cipher.ipynb",
      "provenance": []
    },
    "kernelspec": {
      "name": "python3",
      "display_name": "Python 3"
    },
    "language_info": {
      "name": "python"
    }
  },
  "cells": [
    {
      "cell_type": "code",
      "metadata": {
        "id": "eNMZN5LDb-oa"
      },
      "source": [
        "import numpy as np"
      ],
      "execution_count": 1,
      "outputs": []
    },
    {
      "cell_type": "code",
      "metadata": {
        "id": "jpDFHxu_abEa"
      },
      "source": [
        "def num_coincidences(input, K):\n",
        "  alphabet = [\"A\",\"B\",\"C\",\"D\",\"E\",\"F\",\"G\",\"H\",\"I\",\"J\",\"K\",\"L\",\"M\",\"N\",\"O\",\"P\",\"Q\",\"R\",\"S\",\"T\",\"U\",\"V\",\"W\",\"X\",\"Y\",\"Z\"]\n",
        "  c = 0\n",
        "  #counter\n",
        "  s = []\n",
        "  #set\n",
        "  for i in range(len(input)):\n",
        "    s = s+[input[i]]\n",
        "    #input is converted into a set of its letters\n",
        "  for n in range(len(s)-K):\n",
        "    if s[n] == s[n+K]:\n",
        "      c = c+1\n",
        "      #if letter n of the set is equal to letter (n+K) of the set, the counter goes up 1\n",
        "  return c"
      ],
      "execution_count": 2,
      "outputs": []
    },
    {
      "cell_type": "code",
      "metadata": {
        "id": "Nc76dzXQinPw"
      },
      "source": [
        "def vigenere_decrypt(key,input):\n",
        "  alphabet = [\"A\",\"B\",\"C\",\"D\",\"E\",\"F\",\"G\",\"H\",\"I\",\"J\",\"K\",\"L\",\"M\",\"N\",\"O\",\"P\",\"Q\",\"R\",\"S\",\"T\",\"U\",\"V\",\"W\",\"X\",\"Y\",\"Z\"]\n",
        "  set_k = []\n",
        "  #k-value set\n",
        "  set_i = []\n",
        "  #input set\n",
        "  output = \"\"\n",
        "  #output string\n",
        "  for k in range(len(key)):\n",
        "    #for each letter in the key...\n",
        "    set_k = set_k + [alphabet.index(key[k])]\n",
        "    #...its numerical value is added to the key set\n",
        "  for i in range(len(input)):\n",
        "    #for each letter in the input...\n",
        "    set_i = set_i + [alphabet.index(input[i])]\n",
        "    #... its numerical value is added to the input set\n",
        "  for n in range(len(set_k)):\n",
        "    #for every value in set_k,...\n",
        "    for r in range(n,len(set_i),len(set_k)):\n",
        "      #...for every rth value, where r is the len(set_k)...\n",
        "      set_i[r] = (set_i[r]-set_k[n])%26\n",
        "      #...the nth value is added to the rth value and then modded by 26\n",
        "  for o in range(len(set_i)):\n",
        "    #for every value in set_i...\n",
        "    output = output + alphabet[set_i[o]]\n",
        "    #...the corresponding letter is added to the output string\n",
        "  return (output)"
      ],
      "execution_count": 68,
      "outputs": []
    },
    {
      "cell_type": "code",
      "metadata": {
        "id": "n2aFX0bSbLcn"
      },
      "source": [
        "def key_length(input):\n",
        "  o = []\n",
        "  #output set\n",
        "  q = 0\n",
        "  for m in range(1,21):\n",
        "    C = num_coincidences(input,m)\n",
        "    o = o + [C]\n",
        "    #for K values up to 21, a set of # of coincidences is built\n",
        "  for r in range(len(o)):\n",
        "    if o[r] > q:\n",
        "      q = o[r]\n",
        "      #for all values in o, q becomes the largest value, such that it is the first of any repeats\n",
        "    l = o.index(q)+1\n",
        "    #length = index value of q + 1\n",
        "  return l"
      ],
      "execution_count": 4,
      "outputs": []
    },
    {
      "cell_type": "code",
      "metadata": {
        "id": "76GNoM-FbZZ1"
      },
      "source": [
        "def str_split(s,j,k):\n",
        "  if type(s) != str:\n",
        "    raise TypeError(\"s is not a string\")\n",
        "    #if s is not a string raise an error.\n",
        "  if k < 1:\n",
        "    raise ValueError(\"k is not greater or equal to 1\")\n",
        "    #if k < 1, raise error\n",
        "  else:\n",
        "    S = np.zeros((1,k))\n",
        "    S = np.ndarray.tolist(S)[0]\n",
        "    for q in range(len(S)):\n",
        "      if S[q] == 0:\n",
        "        S[q] = []\n",
        "    #S is a list of empty lists\n",
        "    s = list(s)\n",
        "    #s is the list of characters of the input\n",
        "    for a in range(k):\n",
        "      for b in range(len(s)):\n",
        "        if b%k == a:\n",
        "          S[a] = S[a] + [s[b]]\n",
        "          #S's list are the categorization of s into the characters' indices mod k\n",
        "    return S[j]"
      ],
      "execution_count": 120,
      "outputs": []
    },
    {
      "cell_type": "code",
      "metadata": {
        "id": "LUpPFh6lgXsC"
      },
      "source": [
        "def letter_freq(s):\n",
        "  f = []\n",
        "  #empty list\n",
        "  alphabet = [\"A\",\"B\",\"C\",\"D\",\"E\",\"F\",\"G\",\"H\",\"I\",\"J\",\"K\",\"L\",\"M\",\"N\",\"O\",\"P\",\"Q\",\"R\",\"S\",\"T\",\"U\",\"V\",\"W\",\"X\",\"Y\",\"Z\"]\n",
        "  if type(s) != str:\n",
        "    raise TypeError(\"s is not a string\")\n",
        "    #if s is not a string raise error\n",
        "  else:\n",
        "    s = list(s)\n",
        "    l = len(s)\n",
        "    for i in range(len(alphabet)):\n",
        "      f = f + [(s.count(alphabet[i])/l)]\n",
        "      #for every letter in the alphabet, its frequency in s is set to its number of appearances in s divided by the length of s\n",
        "    return f"
      ],
      "execution_count": 6,
      "outputs": []
    },
    {
      "cell_type": "code",
      "metadata": {
        "id": "_oC58QEknbs-"
      },
      "source": [
        "def cipher_freq(cipher):\n",
        "  A = [\"A\",\"B\",\"C\",\"D\",\"E\",\"F\",\"G\",\"H\",\"I\",\"J\",\"K\",\"L\",\"M\",\"N\",\"O\",\"P\",\"Q\",\"R\",\"S\",\"T\",\"U\",\"V\",\"W\",\"X\",\"Y\",\"Z\"]\n",
        "  S = np.zeros((1,26))\n",
        "  S = np.ndarray.tolist(S)[0]\n",
        "  for i in range(len(A)):\n",
        "    S[i] = vigenere_decrypt(A[i],cipher)\n",
        "  return S"
      ],
      "execution_count": 7,
      "outputs": []
    },
    {
      "cell_type": "code",
      "metadata": {
        "id": "v4illt5sgX2p"
      },
      "source": [
        "def maximize_dot(str_list):\n",
        "  F = np.array([.082, .015, .028, .043, .127, .022, .020, .061, .070, .002,.008, .040, .024, .067, .075, .019, .001, .060, .063, .091,.028, .010, .023, .001, .020, .001])\n",
        "  L = np.zeros((1,26))\n",
        "  L = np.ndarray.tolist(L)[0]\n",
        "  for s in range(len(str_list)):\n",
        "    str_list[s] = letter_freq(str_list[s])\n",
        "    #str_list becomes a vector of letter frequencies for each string in str_list\n",
        "  str_list = np.array(str_list)\n",
        "  for i in range(0,26):\n",
        "    L[i] = str_list[i]@F\n",
        "    #for each frequency vector in str_list it is multiplied by F\n",
        "  K = L.copy()\n",
        "  L.sort(reverse = True)\n",
        "  return K.index(L[0])\n",
        "  #return the index of the largest frequency product"
      ],
      "execution_count": 46,
      "outputs": []
    },
    {
      "cell_type": "code",
      "metadata": {
        "id": "rGDJ3OE1vFvu"
      },
      "source": [
        "def vigenere_crack(string):\n",
        "  A = [\"A\",\"B\",\"C\",\"D\",\"E\",\"F\",\"G\",\"H\",\"I\",\"J\",\"K\",\"L\",\"M\",\"N\",\"O\",\"P\",\"Q\",\"R\",\"S\",\"T\",\"U\",\"V\",\"W\",\"X\",\"Y\",\"Z\"]\n",
        "  l = key_length(string)\n",
        "  #l is the length of the key\n",
        "  S = np.zeros((1,l))\n",
        "  S = np.ndarray.tolist(S)[0]\n",
        "  for j in range(l):\n",
        "    S[j] = str_split(string,j,l)\n",
        "  #S is the list of string split into list of characters that are equivalent mod l\n",
        "  D = np.zeros((l,26))\n",
        "  D = np.ndarray.tolist(D)\n",
        "  for a in range(len(D)):\n",
        "    for b in range(len(D[a])):\n",
        "      D[a][b] = vigenere_decrypt(A[b],S[a])\n",
        "  #D is a list of decryption vectors, with respects to each letter of the alphabet\n",
        "  M = np.zeros((1,l))\n",
        "  M = np.ndarray.tolist(M)[0]\n",
        "  for i in range(len(M)):\n",
        "    M[i] = maximize_dot(D[i])\n",
        "  #M is a list of the letter indices, of which their dot product with F is the largest\n",
        "  key = np.zeros((1,l))\n",
        "  key = np.ndarray.tolist(key)[0]\n",
        "  for k in range(len(key)):\n",
        "    key[k] = A[M[k]]\n",
        "  key = \"\".join(key)\n",
        "  #key is the conjunction of the letters corresponding to the indices of M\n",
        "  return [key,vigenere_decrypt(key,string)]"
      ],
      "execution_count": 123,
      "outputs": []
    }
  ]
}