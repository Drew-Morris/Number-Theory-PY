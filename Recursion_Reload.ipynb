{
  "nbformat": 4,
  "nbformat_minor": 0,
  "metadata": {
    "colab": {
      "name": "Recursion Reload.ipynb",
      "provenance": []
    },
    "kernelspec": {
      "name": "python3",
      "display_name": "Python 3"
    },
    "language_info": {
      "name": "python"
    }
  },
  "cells": [
    {
      "cell_type": "code",
      "metadata": {
        "id": "G9Q-Y5fLJEGL"
      },
      "source": [
        "import sympy as sp\n",
        "import numpy as np\n",
        "import random as rn"
      ],
      "execution_count": 1,
      "outputs": []
    },
    {
      "cell_type": "code",
      "metadata": {
        "id": "o-ng1F5kE0y-"
      },
      "source": [
        "def random_system(n):\n",
        "  A = sp.zeros(n,n)\n",
        "  #A is a zero matrix\n",
        "  for i in range(0,n):\n",
        "    for j in range(i+1,n):\n",
        "      A[i,j] = rn.randrange(-1,2,2)\n",
        "      #for every term in the upper triangular of A, that is not on the diagonal, the term is randomly set to 1 or -1\n",
        "  T = sp.transpose(A)\n",
        "  B = -T\n",
        "  #B is the negative transpose of A\n",
        "  for h in range(0,n):\n",
        "    for k in range(h+1,n):\n",
        "      A[k,h] = B[k,h]\n",
        "      #A and B are put together so that A becomes an anti-symmetric Matrix\n",
        "  return A"
      ],
      "execution_count": 2,
      "outputs": []
    },
    {
      "cell_type": "code",
      "metadata": {
        "colab": {
          "base_uri": "https://localhost:8080/",
          "height": 120
        },
        "id": "KLRIqlVtJ3yH",
        "outputId": "e02a4836-fbfe-45eb-c026-8b90afba16c1"
      },
      "source": [
        "A = random_system(5)\n",
        "A"
      ],
      "execution_count": 3,
      "outputs": [
        {
          "output_type": "execute_result",
          "data": {
            "text/latex": "$\\displaystyle \\left[\\begin{matrix}0 & -1 & 1 & -1 & 1\\\\1 & 0 & -1 & 1 & -1\\\\-1 & 1 & 0 & -1 & 1\\\\1 & -1 & 1 & 0 & 1\\\\-1 & 1 & -1 & -1 & 0\\end{matrix}\\right]$",
            "text/plain": [
              "Matrix([\n",
              "[ 0, -1,  1, -1,  1],\n",
              "[ 1,  0, -1,  1, -1],\n",
              "[-1,  1,  0, -1,  1],\n",
              "[ 1, -1,  1,  0,  1],\n",
              "[-1,  1, -1, -1,  0]])"
            ]
          },
          "metadata": {},
          "execution_count": 3
        }
      ]
    },
    {
      "cell_type": "code",
      "metadata": {
        "id": "CFlN8BtoOcSX"
      },
      "source": [
        "def valid_path(M,L):\n",
        "  if L == []:\n",
        "    return []\n",
        "  n = len(L)\n",
        "  X = L[0]\n",
        "  #X is the first city in L\n",
        "  Lin = []\n",
        "  Lout = []\n",
        "  for i in range(1,n):\n",
        "    if M[0,i] == -1:\n",
        "      Lin = Lin + [L[i]]\n",
        "      #Lin is the set of all cities that lead to X\n",
        "    if M[0,i] == 1:\n",
        "      Lout = Lout + [L[i]]\n",
        "      #Lout is the of all cities come from X\n",
        "  Min = sp.zeros(len(Lin),len(Lin))\n",
        "  Mout = sp.zeros(len(Lout),len(Lout))\n",
        "  if len(Lin) == 0:\n",
        "    Min = []\n",
        "  if len(Lin) > 0:\n",
        "    for a in range(len(Lin)):\n",
        "      for b in range(len(Lin)):\n",
        "        Min[a,b] = M[L.index(Lin[a]),L.index(Lin[b])]\n",
        "  if len(Lout) == 0:\n",
        "    Mout = []\n",
        "  if len(Lout) > 0:\n",
        "    for c in range(len(Lout)):\n",
        "      for d in range(len(Lout)):\n",
        "        Mout[c,d] = M[L.index(Lout[c]),L.index(Lout[d])]\n",
        "  Pin = valid_path(Min,Lin)\n",
        "  Pout = valid_path(Mout,Lout)\n",
        "  return Pin + [X] + Pout\n"
      ],
      "execution_count": 4,
      "outputs": []
    },
    {
      "cell_type": "code",
      "metadata": {
        "colab": {
          "base_uri": "https://localhost:8080/"
        },
        "id": "bOW3U6UQTLkN",
        "outputId": "3628fb24-5943-43d5-8f3b-18fb84f3f115"
      },
      "source": [
        "valid_path(A,[\"a\",\"b\",\"c\",\"d\",\"e\"])"
      ],
      "execution_count": 5,
      "outputs": [
        {
          "output_type": "execute_result",
          "data": {
            "text/plain": [
              "['b', 'd', 'a', 'c', 'e']"
            ]
          },
          "metadata": {},
          "execution_count": 5
        }
      ]
    },
    {
      "cell_type": "code",
      "metadata": {
        "id": "x9DUlZMgIaHg"
      },
      "source": [
        "def fib(n):\n",
        "  if n < 1:\n",
        "    return \"Error: n is not a positive integer\"\n",
        "  if n%1 != 0:\n",
        "    return \"Error: n is not a positive integer\"\n",
        "    #if n is not a positive integer, return Error\n",
        "  else:\n",
        "    if n == 1:\n",
        "      return 1\n",
        "      #the 1st fibonacci term is 1\n",
        "    if n == 2:\n",
        "      return 1\n",
        "      #the 2nd fibonacci term is 1\n",
        "    else:\n",
        "      return fib(n-1)+fib(n-2)\n",
        "      #the nth fibonacci term is the sum of the previous 2 fibonacci terms"
      ],
      "execution_count": 6,
      "outputs": []
    },
    {
      "cell_type": "code",
      "metadata": {
        "id": "XgC3GMQPIlJK"
      },
      "source": [
        "from timeit import default_timer as timer\n",
        "start = timer()\n",
        "fib(50)\n",
        "end = timer()\n",
        "print(end-start)"
      ],
      "execution_count": null,
      "outputs": []
    },
    {
      "cell_type": "code",
      "metadata": {
        "id": "ZzTVYL97U5GU"
      },
      "source": [
        "def hanoi(n,source,,destination,auxiliary):\n",
        "  if n==1:\n",
        "        print \"Move disk 1 from source\",source,\"to destination\",destination\n",
        "        return\n",
        "    hanoi(n-1, source, auxiliary, destination)"
      ],
      "execution_count": null,
      "outputs": []
    },
    {
      "cell_type": "code",
      "metadata": {
        "id": "SJ0BVTZpJDK_"
      },
      "source": [
        "#the least number of moves a hanoi tower of n rings will take to solve is (2**n)-1"
      ],
      "execution_count": null,
      "outputs": []
    }
  ]
}