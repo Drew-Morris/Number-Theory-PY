{
  "nbformat": 4,
  "nbformat_minor": 0,
  "metadata": {
    "colab": {
      "name": "Counterexamples.ipynb",
      "provenance": []
    },
    "kernelspec": {
      "name": "python3",
      "display_name": "Python 3"
    },
    "language_info": {
      "name": "python"
    }
  },
  "cells": [
    {
      "cell_type": "code",
      "metadata": {
        "id": "8XiqLapyp3Sb",
        "colab": {
          "base_uri": "https://localhost:8080/"
        },
        "outputId": "17a92875-0052-4628-f1ee-51d817d5c089"
      },
      "source": [
        "import sympy as sp\n",
        "def prop_1(k):\n",
        "  Q = []\n",
        "  S = []\n",
        "  #2 empty sets\n",
        "  for j in range(k+1):\n",
        "    Q = Q + [j]\n",
        "    #Q becomes the set of all integers from 0 to k\n",
        "  for i in range(len(Q)):\n",
        "    if sp.isprime(2**2**Q[i]+1) == False:\n",
        "      S = S + [Q[i]]\n",
        "      #if the result of the above function is composite it is added to the set S, and then the for loop stops\n",
        "      break\n",
        "  return S[0]\n",
        "  #return the first (and only) term in S\n",
        "prop_1(100)"
      ],
      "execution_count": 32,
      "outputs": [
        {
          "output_type": "execute_result",
          "data": {
            "text/plain": [
              "5"
            ]
          },
          "metadata": {},
          "execution_count": 32
        }
      ]
    },
    {
      "cell_type": "code",
      "metadata": {
        "colab": {
          "base_uri": "https://localhost:8080/"
        },
        "id": "_YRFaly_vy5c",
        "outputId": "2c8eba39-b4dd-4c4b-ea04-ded4231ef585"
      },
      "source": [
        "import sympy as sp\n",
        "def prop_2(p):\n",
        "  S = []\n",
        "  for i in range(1,p+1):\n",
        "    if sp.isprime(2**sp.prime(i)-1) == False:\n",
        "      return sp.prime(i)\n",
        "      break\n",
        "      #for all primes, from the 1st prime to the pth prime, if the above function yields a composite number for the ith prime then the for loop ceases and the ith prime is returned\n",
        "prop_2(100)"
      ],
      "execution_count": 51,
      "outputs": [
        {
          "output_type": "execute_result",
          "data": {
            "text/plain": [
              "11"
            ]
          },
          "metadata": {},
          "execution_count": 51
        }
      ]
    },
    {
      "cell_type": "code",
      "metadata": {
        "colab": {
          "base_uri": "https://localhost:8080/"
        },
        "id": "RM6BsmlI3ZIr",
        "outputId": "0ba37b0b-a0bb-4ecd-b2b3-8e9def97c9d6"
      },
      "source": [
        "import sympy as sp\n",
        "def prop_3(x):\n",
        "  m_1 = 0\n",
        "  m_3 = 0\n",
        "  #counter values\n",
        "  for i in range(2,x+1):\n",
        "    #beginning at the second prime, 3...\n",
        "    if m_1 <= m_3:\n",
        "      if sp.prime(i)%4 == 1:\n",
        "        m_1 = m_1 + 1\n",
        "        #if the ith prime is congruent to 1 mod 4, then m_1 is increased by 1\n",
        "      if sp.prime(i)%4 == 3:\n",
        "        m_3 = m_3 + 1\n",
        "        #if the ith prime is congruent to 3 mod 4, then m_3 is increased by 1\n",
        "    if m_3 < m_1:\n",
        "      #if m_1 is ever greater than m_3, return then i value where this occurs\n",
        "      return i\n",
        "      break\n",
        "prop_3(30000)\n",
        "#m_1 is winning the prime race at the 2946th prime"
      ],
      "execution_count": 95,
      "outputs": [
        {
          "output_type": "execute_result",
          "data": {
            "text/plain": [
              "2946"
            ]
          },
          "metadata": {},
          "execution_count": 95
        }
      ]
    },
    {
      "cell_type": "code",
      "metadata": {
        "colab": {
          "base_uri": "https://localhost:8080/"
        },
        "id": "71XMrSUo9DKk",
        "outputId": "a2daba3f-c38e-47c4-8bfa-227105255a41"
      },
      "source": [
        "import sympy as sp\n",
        "def prop_4(n):\n",
        "  c = []\n",
        "  x = sp.symbols('x')\n",
        "  for k in range(1,n+1):\n",
        "    f = sp.factor_list(x**k-1)[1]\n",
        "    #for every exponential value of n in (x**n)-1, f is the factor list of (x**n)-1\n",
        "    for i in range(len(f)):\n",
        "      c = sp.Poly(f[i][0]).coeffs()\n",
        "      #for every factor in f, c is the list of coefficients\n",
        "      for j in range(len(c)):\n",
        "        if c[j] != -1:\n",
        "          if c[j] != 0:\n",
        "            if c[j] != 1:\n",
        "              #for every coefficient in c, if it is not an element of {-1,0,1}...\n",
        "              return k\n",
        "              #return the n-value of the polynomial, x**n-1, that it came from\n",
        "              break\n",
        "prop_4(200)\n",
        "#x**105-1 has a coefficient of its factors that is not an element of {-1,0,1}"
      ],
      "execution_count": 94,
      "outputs": [
        {
          "output_type": "execute_result",
          "data": {
            "text/plain": [
              "105"
            ]
          },
          "metadata": {},
          "execution_count": 94
        }
      ]
    }
  ]
}