{
  "nbformat": 4,
  "nbformat_minor": 0,
  "metadata": {
    "colab": {
      "name": "Vigenere Cypher.ipynb",
      "provenance": [],
      "collapsed_sections": []
    },
    "kernelspec": {
      "name": "python3",
      "display_name": "Python 3"
    },
    "language_info": {
      "name": "python"
    }
  },
  "cells": [
    {
      "cell_type": "code",
      "metadata": {
        "colab": {
          "base_uri": "https://localhost:8080/",
          "height": 37
        },
        "id": "JGsTNhXro0CO",
        "outputId": "f13530d7-0503-477c-ccbf-b387ae445379"
      },
      "source": [
        "def vigenere_encrypt(key,input):\n",
        "  alphabet = [\"A\",\"B\",\"C\",\"D\",\"E\",\"F\",\"G\",\"H\",\"I\",\"J\",\"K\",\"L\",\"M\",\"N\",\"O\",\"P\",\"Q\",\"R\",\"S\",\"T\",\"U\",\"V\",\"W\",\"X\",\"Y\",\"Z\"]\n",
        "  set_k = []\n",
        "  #key set\n",
        "  set_i = []\n",
        "  #input set\n",
        "  output = \"\"\n",
        "  #output string\n",
        "  for k in range(len(key)):\n",
        "    #for each letter in the key...\n",
        "    set_k = set_k + [alphabet.index(key[k])]\n",
        "    #...its numerical value is added to the key set\n",
        "  for i in range(len(input)):\n",
        "    #for each letter in the input...\n",
        "    set_i = set_i + [alphabet.index(input[i])]\n",
        "    #... its numerical value is added to the input set\n",
        "  for n in range(len(set_k)):\n",
        "    #for every value in set_k,...\n",
        "    for r in range(n,len(set_i),len(set_k)):\n",
        "      #...for every rth value, where r is the len(set_k)...\n",
        "      set_i[r] = (set_i[r]+set_k[n])%26\n",
        "      #...the nth value is added to the rth value and then modded by 26\n",
        "  for o in range(len(set_i)):\n",
        "    #for every value in set_i...\n",
        "    output = output + alphabet[set_i[o]]\n",
        "    #...the corresponding letter is added to the output string\n",
        "  return (output)\n",
        "vigenere_encrypt(\"KEY\",\"MESSAGE\")"
      ],
      "execution_count": null,
      "outputs": [
        {
          "output_type": "execute_result",
          "data": {
            "application/vnd.google.colaboratory.intrinsic+json": {
              "type": "string"
            },
            "text/plain": [
              "'WIQCEEO'"
            ]
          },
          "metadata": {},
          "execution_count": 18
        }
      ]
    },
    {
      "cell_type": "code",
      "metadata": {
        "id": "h656bwgty1wy"
      },
      "source": [
        "def vigener_decrypt(key,input):\n",
        "  alphabet = [\"A\",\"B\",\"C\",\"D\",\"E\",\"F\",\"G\",\"H\",\"I\",\"J\",\"K\",\"L\",\"M\",\"N\",\"O\",\"P\",\"Q\",\"R\",\"S\",\"T\",\"U\",\"V\",\"W\",\"X\",\"Y\",\"Z\"]\n",
        "  set_k = []\n",
        "  #k-value set\n",
        "  set_i = []\n",
        "  #input set\n",
        "  output = \"\"\n",
        "  #output string\n",
        "  for k in range(len(key)):\n",
        "    #for each letter in the key...\n",
        "    set_k = set_k + [alphabet.index(key[k])]\n",
        "    #...its numerical value is added to the key set\n",
        "  for i in range(len(input)):\n",
        "    #for each letter in the input...\n",
        "    set_i = set_i + [alphabet.index(input[i])]\n",
        "    #... its numerical value is added to the input set\n",
        "  for n in range(len(set_k)):\n",
        "    #for every value in set_k,...\n",
        "    for r in range(n,len(set_i),len(set_k)):\n",
        "      #...for every rth value, where r is the len(set_k)...\n",
        "      set_i[r] = (set_i[r]-set_k[n])%26\n",
        "      #...the nth value is added to the rth value and then modded by 26\n",
        "  for o in range(len(set_i)):\n",
        "    #for every value in set_i...\n",
        "    output = output + alphabet[set_i[o]]\n",
        "    #...the corresponding letter is added to the output string\n",
        "  return (output)"
      ],
      "execution_count": null,
      "outputs": []
    },
    {
      "cell_type": "code",
      "metadata": {
        "colab": {
          "base_uri": "https://localhost:8080/"
        },
        "id": "MMJPMg7B1mZs",
        "outputId": "3dbe3a1c-9b3a-4c0d-80b4-37b60fda972f"
      },
      "source": [
        "def key_finder(keyset,input):\n",
        "  alphabet = [\"A\",\"B\",\"C\",\"D\",\"E\",\"F\",\"G\",\"H\",\"I\",\"J\",\"K\",\"L\",\"M\",\"N\",\"O\",\"P\",\"Q\",\"R\",\"S\",\"T\",\"U\",\"V\",\"W\",\"X\",\"Y\",\"Z\"]\n",
        "  set_o = []\n",
        "  #output set\n",
        "  for q in range(len(keyset)):\n",
        "    #for every q...\n",
        "    key = keyset[q]\n",
        "    #key is set to the qth key in the keyset\n",
        "    set_k = []\n",
        "    #k-value set\n",
        "    set_i = []\n",
        "    #input set\n",
        "    output = \"\"\n",
        "    #output string\n",
        "    for k in range(len(key)):\n",
        "     #for each letter in the key...\n",
        "     set_k = set_k + [alphabet.index(key[k])]\n",
        "     #...its numerical value is added to the key set\n",
        "    for i in range(len(input)):\n",
        "      #for each letter in the input...\n",
        "      set_i = set_i + [alphabet.index(input[i])]\n",
        "      #... its numerical value is added to the input set\n",
        "    for n in range(len(set_k)):\n",
        "      #for every value in set_k,...\n",
        "      for r in range(n,len(set_i),len(set_k)):\n",
        "        #...for every rth value, where r is the len(set_k)...\n",
        "        set_i[r] = (set_i[r]-set_k[n])%26\n",
        "        #...the nth value is added to the rth value and then modded by 26\n",
        "    for o in range(len(set_i)):\n",
        "      #for every value in set_i...\n",
        "      output = output + alphabet[set_i[o]]\n",
        "      #...the corresponding letter is added to the output string\n",
        "    set_o = set_o + [output]\n",
        "    #each output using each key in the keyset is added to the output set\n",
        "  return set_o\n",
        "key_finder([\"ALMA\",\"ETHER\",\"HELAMAN\",\"MORONI\",\"NEPHI\",\"SARIAH\",\"ZARAHEMLA\"],\"GLTYMVWCVBUMCNEUMROQFWTJZRXHHDRMIZPNPAIMEIKLIYIS\")"
      ],
      "execution_count": null,
      "outputs": [
        {
          "output_type": "execute_result",
          "data": {
            "text/plain": [
              "['GAHYMKKCVQIMCCSUMGCQFLHJZGLHHSFMIODNPPWMEXYLINWS',\n",
              " 'CSMUVRDVRKQTVJNQTKKZBDMFINEADMNTBVYJWTEVAPDHRUPL',\n",
              " 'ZHIYAVJVRQUACAXQBRCQSPPYZFXUAZGMWZCGLPIAEVDHXYWS',\n",
              " 'UXCKZNKOENHEQZNGZJCCOIGBNDGTUVFYRLCFDMRYRAYXRKVK',\n",
              " 'THEREISNOTHINGWHICHISSECRETSAVEITSHALLBEREVEALED',\n",
              " 'OLCQMOECETUFKNNMMKWQOOTCHRGZHWZMRRPGXAREEBSLRQIL',\n",
              " 'HLCYFRKRVCUVCGAIBRPQOWMFNGXIHMRFENENQARMXEYAIZIB']"
            ]
          },
          "metadata": {},
          "execution_count": 31
        }
      ]
    },
    {
      "cell_type": "code",
      "metadata": {
        "colab": {
          "base_uri": "https://localhost:8080/"
        },
        "id": "SE-tB1bJ7y4V",
        "outputId": "0062da67-c225-4836-ad04-c52b02aa77a2"
      },
      "source": [
        "def num_coincidences(input, K):\n",
        "  alphabet = [\"A\",\"B\",\"C\",\"D\",\"E\",\"F\",\"G\",\"H\",\"I\",\"J\",\"K\",\"L\",\"M\",\"N\",\"O\",\"P\",\"Q\",\"R\",\"S\",\"T\",\"U\",\"V\",\"W\",\"X\",\"Y\",\"Z\"]\n",
        "  c = 0\n",
        "  #counter\n",
        "  s = []\n",
        "  #set\n",
        "  for i in range(len(input)):\n",
        "    s = s+[input[i]]\n",
        "    #input is converted into a set of its letters\n",
        "  for n in range(len(s)-K):\n",
        "    if s[n] == s[n+K]:\n",
        "      c = c+1\n",
        "      #if letter n of the set is equal to letter (n+K) of the set, the counter goes up 1\n",
        "  return c\n",
        "def key_length(input):\n",
        "  o = []\n",
        "  #output set\n",
        "  q = 0\n",
        "  for m in range(1,21):\n",
        "    C = num_coincidences(input,m)\n",
        "    o = o + [C]\n",
        "    #for K values up to 21, a set of # of coincidences is built\n",
        "  for r in range(len(o)):\n",
        "    if o[r] > q:\n",
        "      q = o[r]\n",
        "      #for all values in o, q becomes the largest value, such that it is the first of any repeats\n",
        "    l = o.index(q)+1\n",
        "    #length = index value of q + 1\n",
        "  return l\n",
        "key_length(\"ABCDEFGHIJK\")"
      ],
      "execution_count": 5,
      "outputs": [
        {
          "output_type": "execute_result",
          "data": {
            "text/plain": [
              "(1, 0)"
            ]
          },
          "metadata": {},
          "execution_count": 5
        }
      ]
    }
  ]
}